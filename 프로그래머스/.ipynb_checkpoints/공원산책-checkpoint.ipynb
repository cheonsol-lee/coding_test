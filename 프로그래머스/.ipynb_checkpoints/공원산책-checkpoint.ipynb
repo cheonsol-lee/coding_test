{
 "cells": [
  {
   "cell_type": "code",
   "execution_count": 56,
   "id": "ace654f5-1480-4d46-a0e8-f37e0f144461",
   "metadata": {},
   "outputs": [],
   "source": [
    "park = [\"SOO\",\"OOO\",\"OOO\"]\n",
    "routes = [\"E 2\",\"S 2\",\"W 1\"]\n",
    "result = [2,1]\n",
    "\n",
    "# park = [\"OSO\",\"OOO\",\"OXO\",\"OOO\"]\t\n",
    "# routes = [\"E 2\",\"S 3\",\"W 1\"]\t\n",
    "# result = [0,0]"
   ]
  },
  {
   "cell_type": "code",
   "execution_count": 57,
   "id": "ac5ac354-ab22-400f-9e48-826f9f256065",
   "metadata": {},
   "outputs": [
    {
     "data": {
      "text/plain": [
       "['SOO', 'OOO', 'OOO']"
      ]
     },
     "execution_count": 57,
     "metadata": {},
     "output_type": "execute_result"
    }
   ],
   "source": [
    "park"
   ]
  },
  {
   "cell_type": "code",
   "execution_count": 104,
   "id": "bbbfba93-92ec-4b10-8553-044fe3ebccdc",
   "metadata": {},
   "outputs": [
    {
     "data": {
      "text/plain": [
       "'O'"
      ]
     },
     "execution_count": 104,
     "metadata": {},
     "output_type": "execute_result"
    }
   ],
   "source": [
    "park[0][1]"
   ]
  },
  {
   "cell_type": "code",
   "execution_count": null,
   "id": "cb08e628-0e2a-4757-8f21-47233625de1f",
   "metadata": {},
   "outputs": [],
   "source": []
  },
  {
   "cell_type": "code",
   "execution_count": 58,
   "id": "0ad74d23-ca62-461c-be32-278a78d922af",
   "metadata": {},
   "outputs": [],
   "source": [
    "answer = []\n",
    "H = len(park)  # 세로길이\n",
    "W = len(park[0])  # 가로길이"
   ]
  },
  {
   "cell_type": "code",
   "execution_count": 59,
   "id": "5015e32a-dc72-42f6-90c9-16896281bcc8",
   "metadata": {},
   "outputs": [
    {
     "name": "stdout",
     "output_type": "stream",
     "text": [
      "3 3\n"
     ]
    }
   ],
   "source": [
    "print(H, W)"
   ]
  },
  {
   "cell_type": "code",
   "execution_count": 61,
   "id": "dc393200-994e-4a7e-a2f8-880731cc585b",
   "metadata": {},
   "outputs": [],
   "source": [
    "cur_loc = [-1,-1] # 시작 위치 좌표\n",
    "# 시작 위치 찾기\n",
    "for i in range(0,H):\n",
    "    for j in range(0,W):\n",
    "        if park[i][j] == 'S':\n",
    "            cur_loc = [i,j]"
   ]
  },
  {
   "cell_type": "code",
   "execution_count": 70,
   "id": "1537c777-4105-4c99-beb2-f428f00b8734",
   "metadata": {},
   "outputs": [],
   "source": [
    "for route in routes:\n",
    "    route = route.split() \n",
    "    op = route[0] # 방향\n",
    "    n = int(route[1]) # 이동칸수\n",
    "    \n",
    "    # 조건문(무시)\n",
    "    y,x = cur_loc[0], cur_loc[1]\n",
    "    if op == 'E':\n",
    "        if (x + n < W) and (park[y][x+n]!='X'):\n",
    "            x = x + n\n",
    "    if op == 'W':\n",
    "        if (x - n >= 0) and (park[y][x-n]!='X'):\n",
    "            x = x - n\n",
    "    if op == 'S':\n",
    "        if (y + n < W) and (park[y+n][x]!='X'):\n",
    "            y = y + n\n",
    "    if op == 'N':\n",
    "        if (y - n < W) and (park[y-n][x]!='X'):\n",
    "            y = y - n\n",
    "\n",
    "    cur_loc = (y,x)"
   ]
  },
  {
   "cell_type": "code",
   "execution_count": 71,
   "id": "bcb773fe-faab-4127-86df-ec4dddc8e441",
   "metadata": {},
   "outputs": [
    {
     "data": {
      "text/plain": [
       "(2, 1)"
      ]
     },
     "execution_count": 71,
     "metadata": {},
     "output_type": "execute_result"
    }
   ],
   "source": [
    "cur_loc"
   ]
  },
  {
   "cell_type": "code",
   "execution_count": null,
   "id": "7e6f1f9e-3af3-4eb6-b450-0623f253a80a",
   "metadata": {},
   "outputs": [],
   "source": []
  },
  {
   "cell_type": "code",
   "execution_count": null,
   "id": "1f250481-c6d0-40c5-84fd-37b4692a5a0c",
   "metadata": {},
   "outputs": [],
   "source": [
    "        if op == 'W':\n",
    "            if (x - n >= 0) and (park[y][x-n]!='X'):\n",
    "                x = x - n\n",
    "        if op == 'S':\n",
    "            if (y + n <= H) and (park[y+n][x]!='X'):\n",
    "                y = y + n\n",
    "        if op == 'N':\n",
    "            if (y - n >= 0) and (park[y-n][x]!='X'):"
   ]
  },
  {
   "cell_type": "code",
   "execution_count": 122,
   "id": "5a112ee1-fdb9-47f6-915f-7e6a515734a6",
   "metadata": {},
   "outputs": [],
   "source": [
    "def ban_check(op, n):\n",
    "    for i in range(0, n):\n",
    "        try:\n",
    "            if (op == 'E') and (park[y][x+i]=='X'):\n",
    "                return False\n",
    "            if (op == 'W') and (park[y][x-i]=='X'):\n",
    "                return False\n",
    "            if (op == 'S') and (park[y+i][x]=='X'):\n",
    "                return False\n",
    "            if (op == 'N') and (park[y-i][x]=='X'):\n",
    "                return False\n",
    "        except:\n",
    "            return False\n",
    "    return True\n",
    "    \n",
    "def solution(park, routes):\n",
    "    H = len(park)  # 세로길이\n",
    "    W = len(park[0])  # 가로길이\n",
    "\n",
    "    cur_loc = [-1,-1] # 시작 위치 좌표\n",
    "    # 시작 위치 찾기\n",
    "    for i in range(0,H):\n",
    "        for j in range(0,W):\n",
    "            if park[i][j] == 'S':\n",
    "                cur_loc = [i,j]\n",
    "                \n",
    "    print(cur_loc)\n",
    "    \n",
    "    # 현재 경로 찾기\n",
    "    for route in routes:\n",
    "        route = route.split() \n",
    "        op = route[0] # 방향\n",
    "        n = int(route[1]) # 이동칸수\n",
    "        \n",
    "        # 조건문(무시)\n",
    "        y,x = cur_loc[0], cur_loc[1]\n",
    "        if op == 'E':\n",
    "            if (x + n <= W) and ban_check(op, n):\n",
    "                x = x + n\n",
    "        if op == 'W':\n",
    "            if (x - n >= 0) and ban_check(op, n):\n",
    "                x = x - n\n",
    "        if op == 'S':\n",
    "            if (y + n <= H) and ban_check(op, n):\n",
    "                y = y + n\n",
    "        if op == 'N':\n",
    "            if (y - n >= 0) and ban_check(op, n):\n",
    "                y = y - n\n",
    "    \n",
    "        cur_loc = (y,x)\n",
    "        print(cur_loc)\n",
    "    return cur_loc"
   ]
  },
  {
   "cell_type": "code",
   "execution_count": null,
   "id": "8162956e-825d-4a1a-875f-3946b95c38bb",
   "metadata": {},
   "outputs": [],
   "source": []
  },
  {
   "cell_type": "code",
   "execution_count": 129,
   "id": "d4efe0f3-5ea1-4219-b215-c5305804a03b",
   "metadata": {},
   "outputs": [],
   "source": [
    "# park = [\"SOO\",\"OOO\",\"OOO\"]\n",
    "# routes = [\"E 2\",\"S 2\",\"W 1\"]\n",
    "# result = [2,1]\n",
    "\n",
    "park = [\"SOO\",\"OXX\",\"OOO\"]\t\n",
    "routes =[\"E 2\",\"S 2\",\"W 1\"]\t\n",
    "# result = [0,1]\n",
    "\n",
    "park = [\"OSO\",\"OOO\",\"OXO\",\"OOO\"]\t\n",
    "routes = [\"E 2\",\"S 3\",\"W 1\"]\t\n",
    "# result = [0,0]"
   ]
  },
  {
   "cell_type": "code",
   "execution_count": 130,
   "id": "5940f326-7e9f-49a2-bd64-bdb21a891977",
   "metadata": {},
   "outputs": [
    {
     "name": "stdout",
     "output_type": "stream",
     "text": [
      "[0, 1]\n",
      "(0, 1)\n",
      "(0, 1)\n",
      "(0, 1)\n"
     ]
    },
    {
     "data": {
      "text/plain": [
       "(0, 1)"
      ]
     },
     "execution_count": 130,
     "metadata": {},
     "output_type": "execute_result"
    }
   ],
   "source": [
    "solution(park, routes)"
   ]
  },
  {
   "cell_type": "code",
   "execution_count": null,
   "id": "ac9698a3-be02-43f3-a1d2-7688cbe9a8be",
   "metadata": {},
   "outputs": [],
   "source": []
  },
  {
   "cell_type": "code",
   "execution_count": null,
   "id": "7bc7f2f5-d7cf-4ebe-af4b-511227913c67",
   "metadata": {},
   "outputs": [],
   "source": []
  }
 ],
 "metadata": {
  "kernelspec": {
   "display_name": "llm",
   "language": "python",
   "name": "llm"
  },
  "language_info": {
   "codemirror_mode": {
    "name": "ipython",
    "version": 3
   },
   "file_extension": ".py",
   "mimetype": "text/x-python",
   "name": "python",
   "nbconvert_exporter": "python",
   "pygments_lexer": "ipython3",
   "version": "3.11.9"
  }
 },
 "nbformat": 4,
 "nbformat_minor": 5
}
